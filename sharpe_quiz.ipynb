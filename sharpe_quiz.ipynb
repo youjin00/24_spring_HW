{
 "cells": [
  {
   "cell_type": "code",
   "execution_count": 1,
   "id": "6fd8acfd",
   "metadata": {},
   "outputs": [
    {
     "data": {
      "text/html": [
       "<div>\n",
       "<style scoped>\n",
       "    .dataframe tbody tr th:only-of-type {\n",
       "        vertical-align: middle;\n",
       "    }\n",
       "\n",
       "    .dataframe tbody tr th {\n",
       "        vertical-align: top;\n",
       "    }\n",
       "\n",
       "    .dataframe thead th {\n",
       "        text-align: right;\n",
       "    }\n",
       "</style>\n",
       "<table border=\"1\" class=\"dataframe\">\n",
       "  <thead>\n",
       "    <tr style=\"text-align: right;\">\n",
       "      <th></th>\n",
       "      <th>일자</th>\n",
       "      <th>종목 1</th>\n",
       "      <th>종목 2</th>\n",
       "    </tr>\n",
       "  </thead>\n",
       "  <tbody>\n",
       "    <tr>\n",
       "      <th>0</th>\n",
       "      <td>2023-04-05</td>\n",
       "      <td>872.36</td>\n",
       "      <td>2495.21</td>\n",
       "    </tr>\n",
       "    <tr>\n",
       "      <th>1</th>\n",
       "      <td>2023-04-06</td>\n",
       "      <td>865.58</td>\n",
       "      <td>2459.23</td>\n",
       "    </tr>\n",
       "    <tr>\n",
       "      <th>2</th>\n",
       "      <td>2023-04-07</td>\n",
       "      <td>880.07</td>\n",
       "      <td>2490.41</td>\n",
       "    </tr>\n",
       "    <tr>\n",
       "      <th>3</th>\n",
       "      <td>2023-04-10</td>\n",
       "      <td>887.78</td>\n",
       "      <td>2512.08</td>\n",
       "    </tr>\n",
       "    <tr>\n",
       "      <th>4</th>\n",
       "      <td>2023-04-11</td>\n",
       "      <td>898.94</td>\n",
       "      <td>2547.86</td>\n",
       "    </tr>\n",
       "  </tbody>\n",
       "</table>\n",
       "</div>"
      ],
      "text/plain": [
       "          일자    종목 1     종목 2\n",
       "0 2023-04-05  872.36  2495.21\n",
       "1 2023-04-06  865.58  2459.23\n",
       "2 2023-04-07  880.07  2490.41\n",
       "3 2023-04-10  887.78  2512.08\n",
       "4 2023-04-11  898.94  2547.86"
      ]
     },
     "execution_count": 1,
     "metadata": {},
     "output_type": "execute_result"
    }
   ],
   "source": [
    "import pandas as pd\n",
    "import numpy as np\n",
    "\n",
    "data = pd.read_excel('data.xlsx')\n",
    "data.head()"
   ]
  },
  {
   "cell_type": "code",
   "execution_count": 6,
   "id": "33585fe6",
   "metadata": {},
   "outputs": [
    {
     "data": {
      "text/plain": [
       "0.02870892048741326"
      ]
     },
     "execution_count": 6,
     "metadata": {},
     "output_type": "execute_result"
    }
   ],
   "source": [
    "data['종목1_일일수익률'] = data['종목 1'].pct_change()\n",
    "mean_data1 = data['종목1_일일수익률'].mean()\n",
    "mean_data1 * 100"
   ]
  },
  {
   "cell_type": "code",
   "execution_count": 9,
   "id": "2fa3b51e",
   "metadata": {},
   "outputs": [
    {
     "data": {
      "text/plain": [
       "0.9779932614718856"
      ]
     },
     "execution_count": 9,
     "metadata": {},
     "output_type": "execute_result"
    }
   ],
   "source": [
    "data['종목2_일일수익률'] = data['종목 2'].pct_change()\n",
    "std_data2 = data['종목2_일일수익률'].std()\n",
    "std_data2 * 100"
   ]
  },
  {
   "cell_type": "code",
   "execution_count": 12,
   "id": "19486b8a",
   "metadata": {},
   "outputs": [
    {
     "name": "stdout",
     "output_type": "stream",
     "text": [
      "            일자    종목 1     종목 2  종목1_일일수익률  종목2_일일수익률\n",
      "0   2023-04-05  872.36  2495.21        NaN        NaN\n",
      "1   2023-04-06  865.58  2459.23  -0.007772  -0.014420\n",
      "2   2023-04-07  880.07  2490.41   0.016740   0.012679\n",
      "3   2023-04-10  887.78  2512.08   0.008761   0.008701\n",
      "4   2023-04-11  898.94  2547.86   0.012571   0.014243\n",
      "..         ...     ...      ...        ...        ...\n",
      "238 2024-03-26  916.09  2757.09   0.002627   0.007130\n",
      "239 2024-03-27  911.25  2755.11  -0.005283  -0.000718\n",
      "240 2024-03-28  910.05  2745.82  -0.001317  -0.003372\n",
      "241 2024-03-29  905.50  2746.63  -0.005000   0.000295\n",
      "242 2024-04-01  912.45  2747.86   0.007675   0.000448\n",
      "\n",
      "[243 rows x 5 columns]\n"
     ]
    }
   ],
   "source": [
    "print(data)"
   ]
  },
  {
   "cell_type": "code",
   "execution_count": 14,
   "id": "191d9330",
   "metadata": {},
   "outputs": [
    {
     "data": {
      "text/plain": [
       "0.036656872688866665"
      ]
     },
     "execution_count": 14,
     "metadata": {},
     "output_type": "execute_result"
    }
   ],
   "source": [
    "# DataFrame 생성\n",
    "df = pd.DataFrame(data)\n",
    "\n",
    "# 종목1과 종목2의 일일 수익률에 대한 가중 평균 계산 (50%씩 투자)\n",
    "df[\"포트폴리오_일일수익률\"] = (df[\"종목1_일일수익률\"] + df[\"종목2_일일수익률\"]) / 2\n",
    "\n",
    "# 포트폴리오 일일 수익률의 평균 계산\n",
    "portfolio_daily_return_avg = df[\"포트폴리오_일일수익률\"].mean()\n",
    "\n",
    "portfolio_daily_return_avg * 100"
   ]
  },
  {
   "cell_type": "code",
   "execution_count": 20,
   "id": "ef1794b6",
   "metadata": {},
   "outputs": [
    {
     "data": {
      "text/plain": [
       "Index(['일자', '종목 1', '종목 2', '종목1_일일수익률', '종목2_일일수익률', '포트폴리오_일일수익률'], dtype='object')"
      ]
     },
     "execution_count": 20,
     "metadata": {},
     "output_type": "execute_result"
    }
   ],
   "source": [
    "df.columns"
   ]
  },
  {
   "cell_type": "code",
   "execution_count": 17,
   "id": "c9046251",
   "metadata": {},
   "outputs": [
    {
     "data": {
      "text/plain": [
       "1.1237057226062324"
      ]
     },
     "execution_count": 17,
     "metadata": {},
     "output_type": "execute_result"
    }
   ],
   "source": [
    "portfolio_daily_std_avg = df[\"포트폴리오_일일수익률\"].std()\n",
    "portfolio_daily_std_avg*100"
   ]
  },
  {
   "cell_type": "code",
   "execution_count": 22,
   "id": "48cf9272",
   "metadata": {},
   "outputs": [
    {
     "data": {
      "text/html": [
       "<div>\n",
       "<style scoped>\n",
       "    .dataframe tbody tr th:only-of-type {\n",
       "        vertical-align: middle;\n",
       "    }\n",
       "\n",
       "    .dataframe tbody tr th {\n",
       "        vertical-align: top;\n",
       "    }\n",
       "\n",
       "    .dataframe thead th {\n",
       "        text-align: right;\n",
       "    }\n",
       "</style>\n",
       "<table border=\"1\" class=\"dataframe\">\n",
       "  <thead>\n",
       "    <tr style=\"text-align: right;\">\n",
       "      <th></th>\n",
       "      <th>종목1_일일수익률</th>\n",
       "      <th>종목2_일일수익률</th>\n",
       "    </tr>\n",
       "  </thead>\n",
       "  <tbody>\n",
       "    <tr>\n",
       "      <th>종목1_일일수익률</th>\n",
       "      <td>1.000000</td>\n",
       "      <td>0.733974</td>\n",
       "    </tr>\n",
       "    <tr>\n",
       "      <th>종목2_일일수익률</th>\n",
       "      <td>0.733974</td>\n",
       "      <td>1.000000</td>\n",
       "    </tr>\n",
       "  </tbody>\n",
       "</table>\n",
       "</div>"
      ],
      "text/plain": [
       "           종목1_일일수익률  종목2_일일수익률\n",
       "종목1_일일수익률   1.000000   0.733974\n",
       "종목2_일일수익률   0.733974   1.000000"
      ]
     },
     "execution_count": 22,
     "metadata": {},
     "output_type": "execute_result"
    }
   ],
   "source": [
    "df[['종목1_일일수익률', '종목2_일일수익률']].corr()"
   ]
  },
  {
   "cell_type": "code",
   "execution_count": 28,
   "id": "21356a7b",
   "metadata": {},
   "outputs": [
    {
     "data": {
      "text/plain": [
       "0.0237222896996919"
      ]
     },
     "execution_count": 28,
     "metadata": {},
     "output_type": "execute_result"
    }
   ],
   "source": [
    "sharpe_ratio = ((portfolio_daily_return_avg) -  0.0001) / portfolio_daily_std_avg\n",
    "sharpe_ratio"
   ]
  }
 ],
 "metadata": {
  "kernelspec": {
   "display_name": "Python 3 (ipykernel)",
   "language": "python",
   "name": "python3"
  },
  "language_info": {
   "codemirror_mode": {
    "name": "ipython",
    "version": 3
   },
   "file_extension": ".py",
   "mimetype": "text/x-python",
   "name": "python",
   "nbconvert_exporter": "python",
   "pygments_lexer": "ipython3",
   "version": "3.11.4"
  }
 },
 "nbformat": 4,
 "nbformat_minor": 5
}
